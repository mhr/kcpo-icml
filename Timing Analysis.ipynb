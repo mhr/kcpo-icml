{
 "cells": [
  {
   "cell_type": "code",
   "execution_count": 1,
   "id": "2b78d59d",
   "metadata": {},
   "outputs": [],
   "source": [
    "import pandas as pd\n",
    "import numpy as np\n",
    "from glob import glob\n",
    "import matplotlib.pyplot as plt\n",
    "import seaborn as sns\n",
    "import os\n",
    "\n",
    "plt.rcParams['text.usetex'] = True"
   ]
  },
  {
   "cell_type": "code",
   "execution_count": 2,
   "id": "0104eef2",
   "metadata": {},
   "outputs": [],
   "source": [
    "h10 = {\n",
    "    \"koopman\": {\n",
    "        \"train\": [4.779674053192139, 2.7271478176116943, 2.9460301399230957, 3.31054425239563, 3.135464906692505, 3.233924627304077, 3.737001657485962, 3.924687623977661, 4.285128116607666, 4.896482706069946],\n",
    "        \"infer\": [0.3134334087371826, 0.3985917568206787, 0.34282493591308594, 0.2964498996734619, 0.3803989887237549, 0.37729883193969727, 0.301865816116333, 0.3622739315032959, 0.3727996349334717, 0.4537169933319092]\n",
    "    },\n",
    "    \"rnn\": {\n",
    "        \"train\": [2.603893756866455, 0.35364818572998047, 0.4164917469024658, 0.42455005645751953, 0.3880729675292969, 0.3670799732208252, 0.3927490711212158, 0.38985204696655273, 0.39105892181396484, 0.3713538646697998],\n",
    "        \"infer\": [0.010353565216064453, 0.009846687316894531, 0.009724140167236328, 0.009647369384765625, 0.00960993766784668, 0.009485960006713867, 0.010303020477294922, 0.01024317741394043, 0.00985407829284668, 0.010033369064331055]\n",
    "    },\n",
    "    \"reflex\": {\n",
    "        \"train\": [1.8656294345855713, 0.0753018856048584, 0.07225775718688965, 0.09401726722717285, 0.12689590454101562, 0.07386302947998047, 0.1200108528137207, 0.12194204330444336, 0.07940101623535156, 0.07378959655761719],\n",
    "        \"infer\": [0.002093076705932617, 0.0016565322875976562, 0.0021550655364990234, 0.0017533302307128906, 0.001720428466796875, 0.0016751289367675781, 0.0016300678253173828, 0.0016870498657226562, 0.0016505718231201172, 0.0017235279083251953]\n",
    "    },\n",
    "    \"cyin\": {\n",
    "        \"train\": [3.2110331058502197, 1.270247459411621, 1.3623099327087402, 1.1074566841125488, 1.317047119140625, 1.1884257793426514, 1.5185699462890625, 1.3319885730743408, 1.3440372943878174, 1.25803542137146],\n",
    "        \"infer\": [0.02246236801147461, 0.03410744667053223, 0.02092146873474121, 0.02495288848876953, 0.022350311279296875, 0.02095818519592285, 0.020421981811523438, 0.021271467208862305, 0.023552417755126953, 0.027216672897338867]\n",
    "    }\n",
    "}\n",
    "\n",
    "h20 = {\n",
    "    \"koopman\": {\n",
    "        \"train\": [10.266776323318481, 10.952387571334839, 10.733768939971924, 12.181357622146606, 12.398614406585693, 12.300835132598877, 12.421929597854614, 12.4301278591156, 10.945276737213135, 12.33874249458313],\n",
    "        \"infer\": [1.0488777160644531, 1.0318992137908936, 1.2650980949401855, 1.3452024459838867, 1.0969433784484863, 1.5786447525024414, 1.1997957229614258, 1.2674634456634521, 1.0159943103790283, 1.2965636253356934]\n",
    "    },\n",
    "    \"rnn\": {\n",
    "        \"train\": [5.017014980316162, 0.6437451839447021, 0.6544826030731201, 0.7134201526641846, 0.7259464263916016, 0.6117806434631348, 0.7086565494537354, 0.8157744407653809, 0.7103004455566406, 0.6668047904968262],\n",
    "        \"infer\": [0.024918556213378906, 0.029378652572631836, 0.03747272491455078, 0.028362274169921875, 0.027591705322265625, 0.022797107696533203, 0.025671005249023438, 0.028809309005737305, 0.02881789207458496, 0.028728723526000977]\n",
    "    },\n",
    "    \"reflex\": {\n",
    "        \"train\": [2.042452335357666, 0.09210085868835449, 0.08116579055786133, 0.07837557792663574, 0.09552621841430664, 0.06574058532714844, 0.08968424797058105, 0.07595443725585938, 0.09659457206726074, 0.09284472465515137],\n",
    "        \"infer\": [0.0020613670349121094, 0.0015025138854980469, 0.0014967918395996094, 0.0014424324035644531, 0.0013680458068847656, 0.0013437271118164062, 0.0013816356658935547, 0.0014567375183105469, 0.001360177993774414, 0.0013413429260253906]\n",
    "    },\n",
    "    \"cyin\": {\n",
    "        \"train\": [1.6287741661071777, 1.3362650871276855, 1.3928403854370117, 1.168846607208252, 1.1990687847137451, 1.3433475494384766, 1.2659964561462402, 1.4219019412994385, 1.3531677722930908, 1.3473031520843506],\n",
    "        \"infer\": [0.032375335693359375, 0.030330181121826172, 0.030533790588378906, 0.030735015869140625, 0.03037095069885254, 0.030215978622436523, 0.030205965042114258, 0.030774593353271484, 0.0436859130859375, 0.03247666358947754]\n",
    "    }\n",
    "}"
   ]
  },
  {
   "cell_type": "code",
   "execution_count": 3,
   "id": "dcf29e24",
   "metadata": {},
   "outputs": [],
   "source": [
    "def plot(data, ylim, horizon=\"10\"):\n",
    "    import matplotlib as mpl\n",
    "    mpl.rcParams.update(mpl.rcParamsDefault)\n",
    "\n",
    "    method_names = [\"Training\", \"Inference\"]\n",
    "\n",
    "    results = []\n",
    "    for type_ in [\"train\", \"infer\"]:\n",
    "        results.append(data[\"koopman\"][type_])\n",
    "    print(results)\n",
    "    kcpo_df = pd.DataFrame(np.array(results).T, columns=method_names)\n",
    "\n",
    "    results = []\n",
    "    for type_ in [\"train\", \"infer\"]:\n",
    "        results.append(data[\"rnn\"][type_])\n",
    "    rnn_df = pd.DataFrame(np.array(results).T, columns=method_names)\n",
    "    \n",
    "    results = []\n",
    "    for type_ in [\"train\", \"infer\"]:\n",
    "        results.append(data[\"reflex\"][type_])\n",
    "    reflex_df = pd.DataFrame(np.array(results).T, columns=method_names)\n",
    "    \n",
    "    results = []\n",
    "    for type_ in [\"train\", \"infer\"]:\n",
    "        results.append(data[\"cyin\"][type_])\n",
    "    cyin_df = pd.DataFrame(np.array(results).T, columns=method_names)\n",
    "\n",
    "    # print(in_df)\n",
    "    # print(out_df)\n",
    "\n",
    "    pal = sns.color_palette(\"Set1\")\n",
    "\n",
    "    # Create the figure\n",
    "    fig, (first, second, third, fourth) = plt.subplots(1, 4, figsize=(10, 3))\n",
    "\n",
    "    first.set_title(\"KCPO\", size=15)\n",
    "    first.set_yscale(\"log\")\n",
    "    first.set_ylim(ylim)\n",
    "    first.set_ylabel(\"Seconds\", size=15)\n",
    "    first.axhline(y=1, color=\"black\", linewidth=4, linestyle=\"-\")\n",
    "    bp = sns.boxplot(data=kcpo_df, palette=pal, ax=first)\n",
    "\n",
    "    second.set_title(\"RNN\", size=15)\n",
    "    second.set_yscale(\"log\")\n",
    "    second.set_ylim(ylim)\n",
    "    second.axhline(y=1, color=\"black\", linewidth=4, linestyle=\"-\")\n",
    "    bp = sns.boxplot(data=rnn_df, palette=pal, ax=second)\n",
    "    \n",
    "    third.set_title(\"ReflexNet\", size=15)\n",
    "    third.set_yscale(\"log\")\n",
    "    third.set_ylim(ylim)\n",
    "    third.axhline(y=1, color=\"black\", linewidth=4, linestyle=\"-\")\n",
    "    bp = sns.boxplot(data=rnn_df, palette=pal, ax=third)\n",
    "    \n",
    "    fourth.set_title(\"RiccatiNet\", size=15)\n",
    "    fourth.set_yscale(\"log\")\n",
    "    fourth.set_ylim(ylim)\n",
    "    fourth.axhline(y=1, color=\"black\", linewidth=4, linestyle=\"-\")\n",
    "    bp = sns.boxplot(data=cyin_df, palette=pal, ax=fourth)\n",
    "    \n",
    "    plt.tight_layout()\n",
    "\n",
    "    plt.savefig(f\"./timing_figures/timing-horizon-{horizon}.pdf\", transparent=True, bbox_inches='tight', pad_inches=0)\n",
    "\n",
    "    plt.show()"
   ]
  },
  {
   "cell_type": "code",
   "execution_count": 4,
   "id": "f1f95a8a",
   "metadata": {},
   "outputs": [
    {
     "name": "stdout",
     "output_type": "stream",
     "text": [
      "[[4.779674053192139, 2.7271478176116943, 2.9460301399230957, 3.31054425239563, 3.135464906692505, 3.233924627304077, 3.737001657485962, 3.924687623977661, 4.285128116607666, 4.896482706069946], [0.3134334087371826, 0.3985917568206787, 0.34282493591308594, 0.2964498996734619, 0.3803989887237549, 0.37729883193969727, 0.301865816116333, 0.3622739315032959, 0.3727996349334717, 0.4537169933319092]]\n"
     ]
    },
    {
     "data": {
      "image/png": "[encoded data removed]",
      "text/plain": [
       "<Figure size 1000x300 with 4 Axes>"
      ]
     },
     "metadata": {},
     "output_type": "display_data"
    }
   ],
   "source": [
    "data = h10\n",
    "horizon = \"10\"\n",
    "ylim = [2*10**-3,2*10**1]\n",
    "\n",
    "plot(data, ylim, horizon)"
   ]
  },
  {
   "cell_type": "code",
   "execution_count": 5,
   "id": "4c620e5b",
   "metadata": {},
   "outputs": [
    {
     "name": "stdout",
     "output_type": "stream",
     "text": [
      "[(0.8941176470588236, 0.10196078431372549, 0.10980392156862745), (0.21568627450980393, 0.49411764705882355, 0.7215686274509804), (0.30196078431372547, 0.6862745098039216, 0.2901960784313726), (0.596078431372549, 0.3058823529411765, 0.6392156862745098), (1.0, 0.4980392156862745, 0.0), (1.0, 1.0, 0.2), (0.6509803921568628, 0.33725490196078434, 0.1568627450980392), (0.9686274509803922, 0.5058823529411764, 0.7490196078431373), (0.6, 0.6, 0.6)]\n"
     ]
    }
   ],
   "source": [
    "sns.set_theme(style=\"white\")\n",
    "pal = sns.color_palette(\"Set1\")\n",
    "print(pal)\n",
    "\n",
    "import matplotlib as mpl\n",
    "mpl.rcParams.update(mpl.rcParamsDefault)\n",
    "mpl.rcParams['figure.dpi'] = 300\n",
    "\n",
    "def plot2(data, ylim, horizon=\"10\", inference_only=True):\n",
    "#     method_names = [\"Training\", \"Inference\"]\n",
    "    method_names = [\"KCPO\", \"RNN\", \"ReflexNet\", \"RiccatiNet\"]\n",
    "\n",
    "    results = []\n",
    "    for type_ in [\"koopman\", \"rnn\", \"reflex\", \"cyin\"]:\n",
    "        results.append(data[type_][\"train\"])\n",
    "    print(results)\n",
    "    train_df = pd.DataFrame(np.array(results).T, columns=method_names)\n",
    "    \n",
    "    results = []\n",
    "    for type_ in [\"koopman\", \"rnn\", \"reflex\", \"cyin\"]:\n",
    "        results.append(data[type_][\"infer\"])\n",
    "    print(results)\n",
    "    infer_df = pd.DataFrame(np.array(results).T, columns=method_names)\n",
    "\n",
    "    # Create the figure\n",
    "    if inference_only:\n",
    "        fig, ax = plt.subplots(1, 1, figsize=(2, 3))\n",
    "\n",
    "        ax.set_title(\"Inference Time\", size=8)\n",
    "        ax.set_ylabel(\"Seconds\", size=8)\n",
    "        ax.set_yscale(\"log\")\n",
    "        ax.set_ylim(ylim)\n",
    "        ax.axhline(y=1, color=\"black\", linewidth=2, linestyle=\"--\")\n",
    "        plt.xticks(rotation=45, ha=\"right\")\n",
    "        bp = sns.barplot(data=infer_df, palette=pal, ax=ax)\n",
    "        plt.tick_params(axis='y', labelsize=6)\n",
    "        plt.tick_params(axis='x', labelsize=8)\n",
    "    else:\n",
    "        fig, (first, second) = plt.subplots(1, 2, figsize=(8, 7), dpi=300)\n",
    "\n",
    "        first.set_title(\"Train\", size=15)\n",
    "        first.set_yscale(\"log\")\n",
    "        first.set_ylim(ylim)\n",
    "        first.set_ylabel(\"Seconds\", size=15)\n",
    "        first.axhline(y=1, color=\"black\", linewidth=4, linestyle=\"-\")\n",
    "        bp = sns.barplot(data=train_df, palette=pal, ax=first)\n",
    "\n",
    "        second.set_title(\"Inference\", size=15)\n",
    "        second.set_yscale(\"log\")\n",
    "        second.set_ylim(ylim)\n",
    "        second.axhline(y=1, color=\"black\", linewidth=4, linestyle=\"-\")\n",
    "        bp = sns.barplot(data=infer_df, palette=pal, ax=second)\n",
    "        second.get_yaxis().set_visible(False)\n",
    "    \n",
    "    plt.tight_layout()\n",
    "\n",
    "    plt.savefig(f\"./timing_figures/timing-horizon-{horizon}.pdf\", transparent=True, bbox_inches='tight', pad_inches=0)\n",
    "\n",
    "    plt.show()"
   ]
  },
  {
   "cell_type": "code",
   "execution_count": 6,
   "id": "a9c81949",
   "metadata": {},
   "outputs": [],
   "source": [
    "pal = sns.color_palette(\"Set1\")\n",
    "\n",
    "import matplotlib as mpl\n",
    "mpl.rcParams.update(mpl.rcParamsDefault)\n",
    "mpl.rcParams['figure.dpi'] = 300\n",
    "\n",
    "def plot2(data, ylim, horizon=\"10\", inference_only=True):\n",
    "#     method_names = [\"Training\", \"Inference\"]\n",
    "    method_names = [\"KCPO\", \"RNN\", \"ReflexNet\", \"RiccatiNet\"]\n",
    "\n",
    "    results = []\n",
    "    for type_ in [\"koopman\", \"rnn\", \"reflex\", \"cyin\"]:\n",
    "        results.append(data[type_][\"train\"])\n",
    "    print(results)\n",
    "    train_df = pd.DataFrame(np.array(results).T, columns=method_names)\n",
    "    \n",
    "    results = []\n",
    "    for type_ in [\"koopman\", \"rnn\", \"reflex\", \"cyin\"]:\n",
    "        results.append(data[type_][\"infer\"])\n",
    "    print(results)\n",
    "    infer_df = pd.DataFrame(np.array(results).T, columns=method_names)\n",
    "\n",
    "    # Create the figure\n",
    "    fig, ax = plt.subplots(1, 1, figsize=(8, 17))\n",
    "\n",
    "    ax.set_title(\"Inference Time\", size=50)\n",
    "    ax.set_ylabel(\"Seconds\", size=40)\n",
    "    ax.set_yscale(\"log\")\n",
    "    ax.set_ylim(ylim)\n",
    "    ax.axhline(y=1, color=\"black\", linewidth=2, linestyle=\"--\")\n",
    "    plt.xticks(rotation=45, ha=\"right\")\n",
    "    bp = sns.barplot(data=infer_df, palette=pal, ax=ax)\n",
    "    plt.tick_params(axis='y', labelsize=30)\n",
    "    plt.tick_params(axis='x', labelsize=40)\n",
    "\n",
    "    plt.tight_layout()\n",
    "\n",
    "    plt.savefig(f\"./timing_figures/timing-horizon-{horizon}.pdf\", transparent=True, bbox_inches='tight', pad_inches=0)\n",
    "\n",
    "    plt.show()"
   ]
  },
  {
   "cell_type": "code",
   "execution_count": 5,
   "id": "99d8e6f2",
   "metadata": {},
   "outputs": [],
   "source": [
    "import plotly.graph_objects as go\n",
    "import plotly.express as px\n",
    "import pandas as pd\n",
    "import numpy as np\n",
    "import plotly.offline as pyo\n",
    "\n",
    "def plotly_plot2(data, ylim, horizon=\"10\", inference_only=True):\n",
    "    method_names = [\"KCPO\", \"RNN\", \"ReflexNet\", \"RiccatiNet\"]\n",
    "    colors = px.colors.qualitative.Set1  # Using Set1 color scheme from Seaborn\n",
    "\n",
    "    results = []\n",
    "    for type_ in [\"koopman\", \"rnn\", \"reflex\", \"cyin\"]:\n",
    "        results.append(data[type_][\"train\"])\n",
    "    print(results)\n",
    "    train_df = pd.DataFrame(np.array(results).T, columns=method_names)\n",
    "    \n",
    "    results = []\n",
    "    for type_ in [\"koopman\", \"rnn\", \"reflex\", \"cyin\"]:\n",
    "        results.append(data[type_][\"infer\"])\n",
    "    print(results)\n",
    "    infer_df = pd.DataFrame(np.array(results).T, columns=method_names)\n",
    "\n",
    "    # Create the figure\n",
    "    fig = go.Figure()\n",
    "\n",
    "    # Add bars to the figure\n",
    "    for i, method in enumerate(method_names):\n",
    "        fig.add_trace(go.Bar(x=[method], \n",
    "                             y=[infer_df[method].mean()] if inference_only else [train_df[method].mean()],\n",
    "                             name=method, \n",
    "                             marker_color=colors[i], showlegend=False))\n",
    "\n",
    "    # Add line to the figure\n",
    "    fig.add_shape(type=\"line\",\n",
    "                  x0=-0.5, y0=1, x1=3.5, y1=1,\n",
    "                  line=dict(color=\"Black\",width=2, dash=\"dash\")\n",
    "    )\n",
    "\n",
    "    # Update layout\n",
    "    fig.update_layout(\n",
    "        title_text=\"Inference Time\" if inference_,\n",
    "        title_x=0.5,\n",
    "        title_font=dict(size=50),\n",
    "        yaxis_type=\"log\",\n",
    "        yaxis_range=[np.log10(ylim[0]), np.log10(ylim[1])],\n",
    "        yaxis_title=\"Seconds\",\n",
    "        yaxis_title_font=dict(size=40),\n",
    "        yaxis_tickfont_size=30,\n",
    "        xaxis_tickfont_size=40,\n",
    "        autosize=False,\n",
    "        width=500,\n",
    "        height=1200,\n",
    "        bargap=0.1, # gap between bars of adjacent location coordinates\n",
    "        bargroupgap=0.1 # gap between bars of the same location coordinate\n",
    "    )\n",
    "\n",
    "    # Show figure\n",
    "    fig.show()\n",
    "    \n",
    "    div_str = pyo.plot(fig, output_type=\"div\", include_plotlyjs=False)\n",
    "    print(div_str)"
   ]
  },
  {
   "cell_type": "code",
   "execution_count": 14,
   "id": "66b2e565",
   "metadata": {
    "scrolled": false
   },
   "outputs": [
    {
     "name": "stdout",
     "output_type": "stream",
     "text": [
      "[[4.779674053192139, 2.7271478176116943, 2.9460301399230957, 3.31054425239563, 3.135464906692505, 3.233924627304077, 3.737001657485962, 3.924687623977661, 4.285128116607666, 4.896482706069946], [2.603893756866455, 0.35364818572998047, 0.4164917469024658, 0.42455005645751953, 0.3880729675292969, 0.3670799732208252, 0.3927490711212158, 0.38985204696655273, 0.39105892181396484, 0.3713538646697998], [1.8656294345855713, 0.0753018856048584, 0.07225775718688965, 0.09401726722717285, 0.12689590454101562, 0.07386302947998047, 0.1200108528137207, 0.12194204330444336, 0.07940101623535156, 0.07378959655761719], [3.2110331058502197, 1.270247459411621, 1.3623099327087402, 1.1074566841125488, 1.317047119140625, 1.1884257793426514, 1.5185699462890625, 1.3319885730743408, 1.3440372943878174, 1.25803542137146]]\n",
      "[[0.3134334087371826, 0.3985917568206787, 0.34282493591308594, 0.2964498996734619, 0.3803989887237549, 0.37729883193969727, 0.301865816116333, 0.3622739315032959, 0.3727996349334717, 0.4537169933319092], [0.010353565216064453, 0.009846687316894531, 0.009724140167236328, 0.009647369384765625, 0.00960993766784668, 0.009485960006713867, 0.010303020477294922, 0.01024317741394043, 0.00985407829284668, 0.010033369064331055], [0.002093076705932617, 0.0016565322875976562, 0.0021550655364990234, 0.0017533302307128906, 0.001720428466796875, 0.0016751289367675781, 0.0016300678253173828, 0.0016870498657226562, 0.0016505718231201172, 0.0017235279083251953], [0.02246236801147461, 0.03410744667053223, 0.02092146873474121, 0.02495288848876953, 0.022350311279296875, 0.02095818519592285, 0.020421981811523438, 0.021271467208862305, 0.023552417755126953, 0.027216672897338867]]\n"
     ]
    },
    {
     "data": {
      "application/vnd.plotly.v1+json": {
       "config": {
        "plotlyServerURL": "https://plot.ly"
       },
       "data": [
        {
         "marker": {
          "color": "rgb(228,26,28)"
         },
         "name": "KCPO",
         "showlegend": false,
         "type": "bar",
         "x": [
          "KCPO"
         ],
         "y": [
          0.3599654197692871
         ]
        },
        {
         "marker": {
          "color": "rgb(55,126,184)"
         },
         "name": "RNN",
         "showlegend": false,
         "type": "bar",
         "x": [
          "RNN"
         ],
         "y": [
          0.009910130500793457
         ]
        },
        {
         "marker": {
          "color": "rgb(77,175,74)"
         },
         "name": "ReflexNet",
         "showlegend": false,
         "type": "bar",
         "x": [
          "ReflexNet"
         ],
         "y": [
          0.0017744779586791992
         ]
        },
        {
         "marker": {
          "color": "rgb(152,78,163)"
         },
         "name": "RiccatiNet",
         "showlegend": false,
         "type": "bar",
         "x": [
          "RiccatiNet"
         ],
         "y": [
          0.023821520805358886
         ]
        }
       ],
       "layout": {
        "autosize": false,
        "bargap": 0.1,
        "bargroupgap": 0.1,
        "height": 1300,
        "shapes": [
         {
          "line": {
           "color": "Black",
           "dash": "dash",
           "width": 2
          },
          "type": "line",
          "x0": -0.5,
          "x1": 3.5,
          "y0": 1,
          "y1": 1
         }
        ],
        "template": {
         "data": {
          "bar": [
           {
            "error_x": {
             "color": "#2a3f5f"
            },
            "error_y": {
             "color": "#2a3f5f"
            },
            "marker": {
             "line": {
              "color": "#E5ECF6",
              "width": 0.5
             },
             "pattern": {
              "fillmode": "overlay",
              "size": 10,
              "solidity": 0.2
             }
            },
            "type": "bar"
           }
          ],
          "barpolar": [
           {
            "marker": {
             "line": {
              "color": "#E5ECF6",
              "width": 0.5
             },
             "pattern": {
              "fillmode": "overlay",
              "size": 10,
              "solidity": 0.2
             }
            },
            "type": "barpolar"
           }
          ],
          "carpet": [
           {
            "aaxis": {
             "endlinecolor": "#2a3f5f",
             "gridcolor": "white",
             "linecolor": "white",
             "minorgridcolor": "white",
             "startlinecolor": "#2a3f5f"
            },
            "baxis": {
             "endlinecolor": "#2a3f5f",
             "gridcolor": "white",
             "linecolor": "white",
             "minorgridcolor": "white",
             "startlinecolor": "#2a3f5f"
            },
            "type": "carpet"
           }
          ],
          "choropleth": [
           {
            "colorbar": {
             "outlinewidth": 0,
             "ticks": ""
            },
            "type": "choropleth"
           }
          ],
          "contour": [
           {
            "colorbar": {
             "outlinewidth": 0,
             "ticks": ""
            },
            "colorscale": [
             [
              0,
              "#0d0887"
             ],
             [
              0.1111111111111111,
              "#46039f"
             ],
             [
              0.2222222222222222,
              "#7201a8"
             ],
             [
              0.3333333333333333,
              "#9c179e"
             ],
             [
              0.4444444444444444,
              "#bd3786"
             ],
             [
              0.5555555555555556,
              "#d8576b"
             ],
             [
              0.6666666666666666,
              "#ed7953"
             ],
             [
              0.7777777777777778,
              "#fb9f3a"
             ],
             [
              0.8888888888888888,
              "#fdca26"
             ],
             [
              1,
              "#f0f921"
             ]
            ],
            "type": "contour"
           }
          ],
          "contourcarpet": [
           {
            "colorbar": {
             "outlinewidth": 0,
             "ticks": ""
            },
            "type": "contourcarpet"
           }
          ],
          "heatmap": [
           {
            "colorbar": {
             "outlinewidth": 0,
             "ticks": ""
            },
            "colorscale": [
             [
              0,
              "#0d0887"
             ],
             [
              0.1111111111111111,
              "#46039f"
             ],
             [
              0.2222222222222222,
              "#7201a8"
             ],
             [
              0.3333333333333333,
              "#9c179e"
             ],
             [
              0.4444444444444444,
              "#bd3786"
             ],
             [
              0.5555555555555556,
              "#d8576b"
             ],
             [
              0.6666666666666666,
              "#ed7953"
             ],
             [
              0.7777777777777778,
              "#fb9f3a"
             ],
             [
              0.8888888888888888,
              "#fdca26"
             ],
             [
              1,
              "#f0f921"
             ]
            ],
            "type": "heatmap"
           }
          ],
          "heatmapgl": [
           {
            "colorbar": {
             "outlinewidth": 0,
             "ticks": ""
            },
            "colorscale": [
             [
              0,
              "#0d0887"
             ],
             [
              0.1111111111111111,
              "#46039f"
             ],
             [
              0.2222222222222222,
              "#7201a8"
             ],
             [
              0.3333333333333333,
              "#9c179e"
             ],
             [
              0.4444444444444444,
              "#bd3786"
             ],
             [
              0.5555555555555556,
              "#d8576b"
             ],
             [
              0.6666666666666666,
              "#ed7953"
             ],
             [
              0.7777777777777778,
              "#fb9f3a"
             ],
             [
              0.8888888888888888,
              "#fdca26"
             ],
             [
              1,
              "#f0f921"
             ]
            ],
            "type": "heatmapgl"
           }
          ],
          "histogram": [
           {
            "marker": {
             "pattern": {
              "fillmode": "overlay",
              "size": 10,
              "solidity": 0.2
             }
            },
            "type": "histogram"
           }
          ],
          "histogram2d": [
           {
            "colorbar": {
             "outlinewidth": 0,
             "ticks": ""
            },
            "colorscale": [
             [
              0,
              "#0d0887"
             ],
             [
              0.1111111111111111,
              "#46039f"
             ],
             [
              0.2222222222222222,
              "#7201a8"
             ],
             [
              0.3333333333333333,
              "#9c179e"
             ],
             [
              0.4444444444444444,
              "#bd3786"
             ],
             [
              0.5555555555555556,
              "#d8576b"
             ],
             [
              0.6666666666666666,
              "#ed7953"
             ],
             [
              0.7777777777777778,
              "#fb9f3a"
             ],
             [
              0.8888888888888888,
              "#fdca26"
             ],
             [
              1,
              "#f0f921"
             ]
            ],
            "type": "histogram2d"
           }
          ],
          "histogram2dcontour": [
           {
            "colorbar": {
             "outlinewidth": 0,
             "ticks": ""
            },
            "colorscale": [
             [
              0,
              "#0d0887"
             ],
             [
              0.1111111111111111,
              "#46039f"
             ],
             [
              0.2222222222222222,
              "#7201a8"
             ],
             [
              0.3333333333333333,
              "#9c179e"
             ],
             [
              0.4444444444444444,
              "#bd3786"
             ],
             [
              0.5555555555555556,
              "#d8576b"
             ],
             [
              0.6666666666666666,
              "#ed7953"
             ],
             [
              0.7777777777777778,
              "#fb9f3a"
             ],
             [
              0.8888888888888888,
              "#fdca26"
             ],
             [
              1,
              "#f0f921"
             ]
            ],
            "type": "histogram2dcontour"
           }
          ],
          "mesh3d": [
           {
            "colorbar": {
             "outlinewidth": 0,
             "ticks": ""
            },
            "type": "mesh3d"
           }
          ],
          "parcoords": [
           {
            "line": {
             "colorbar": {
              "outlinewidth": 0,
              "ticks": ""
             }
            },
            "type": "parcoords"
           }
          ],
          "pie": [
           {
            "automargin": true,
            "type": "pie"
           }
          ],
          "scatter": [
           {
            "fillpattern": {
             "fillmode": "overlay",
             "size": 10,
             "solidity": 0.2
            },
            "type": "scatter"
           }
          ],
          "scatter3d": [
           {
            "line": {
             "colorbar": {
              "outlinewidth": 0,
              "ticks": ""
             }
            },
            "marker": {
             "colorbar": {
              "outlinewidth": 0,
              "ticks": ""
             }
            },
            "type": "scatter3d"
           }
          ],
          "scattercarpet": [
           {
            "marker": {
             "colorbar": {
              "outlinewidth": 0,
              "ticks": ""
             }
            },
            "type": "scattercarpet"
           }
          ],
          "scattergeo": [
           {
            "marker": {
             "colorbar": {
              "outlinewidth": 0,
              "ticks": ""
             }
            },
            "type": "scattergeo"
           }
          ],
          "scattergl": [
           {
            "marker": {
             "colorbar": {
              "outlinewidth": 0,
              "ticks": ""
             }
            },
            "type": "scattergl"
           }
          ],
          "scattermapbox": [
           {
            "marker": {
             "colorbar": {
              "outlinewidth": 0,
              "ticks": ""
             }
            },
            "type": "scattermapbox"
           }
          ],
          "scatterpolar": [
           {
            "marker": {
             "colorbar": {
              "outlinewidth": 0,
              "ticks": ""
             }
            },
            "type": "scatterpolar"
           }
          ],
          "scatterpolargl": [
           {
            "marker": {
             "colorbar": {
              "outlinewidth": 0,
              "ticks": ""
             }
            },
            "type": "scatterpolargl"
           }
          ],
          "scatterternary": [
           {
            "marker": {
             "colorbar": {
              "outlinewidth": 0,
              "ticks": ""
             }
            },
            "type": "scatterternary"
           }
          ],
          "surface": [
           {
            "colorbar": {
             "outlinewidth": 0,
             "ticks": ""
            },
            "colorscale": [
             [
              0,
              "#0d0887"
             ],
             [
              0.1111111111111111,
              "#46039f"
             ],
             [
              0.2222222222222222,
              "#7201a8"
             ],
             [
              0.3333333333333333,
              "#9c179e"
             ],
             [
              0.4444444444444444,
              "#bd3786"
             ],
             [
              0.5555555555555556,
              "#d8576b"
             ],
             [
              0.6666666666666666,
              "#ed7953"
             ],
             [
              0.7777777777777778,
              "#fb9f3a"
             ],
             [
              0.8888888888888888,
              "#fdca26"
             ],
             [
              1,
              "#f0f921"
             ]
            ],
            "type": "surface"
           }
          ],
          "table": [
           {
            "cells": {
             "fill": {
              "color": "#EBF0F8"
             },
             "line": {
              "color": "white"
             }
            },
            "header": {
             "fill": {
              "color": "#C8D4E3"
             },
             "line": {
              "color": "white"
             }
            },
            "type": "table"
           }
          ]
         },
         "layout": {
          "annotationdefaults": {
           "arrowcolor": "#2a3f5f",
           "arrowhead": 0,
           "arrowwidth": 1
          },
          "autotypenumbers": "strict",
          "coloraxis": {
           "colorbar": {
            "outlinewidth": 0,
            "ticks": ""
           }
          },
          "colorscale": {
           "diverging": [
            [
             0,
             "#8e0152"
            ],
            [
             0.1,
             "#c51b7d"
            ],
            [
             0.2,
             "#de77ae"
            ],
            [
             0.3,
             "#f1b6da"
            ],
            [
             0.4,
             "#fde0ef"
            ],
            [
             0.5,
             "#f7f7f7"
            ],
            [
             0.6,
             "#e6f5d0"
            ],
            [
             0.7,
             "#b8e186"
            ],
            [
             0.8,
             "#7fbc41"
            ],
            [
             0.9,
             "#4d9221"
            ],
            [
             1,
             "#276419"
            ]
           ],
           "sequential": [
            [
             0,
             "#0d0887"
            ],
            [
             0.1111111111111111,
             "#46039f"
            ],
            [
             0.2222222222222222,
             "#7201a8"
            ],
            [
             0.3333333333333333,
             "#9c179e"
            ],
            [
             0.4444444444444444,
             "#bd3786"
            ],
            [
             0.5555555555555556,
             "#d8576b"
            ],
            [
             0.6666666666666666,
             "#ed7953"
            ],
            [
             0.7777777777777778,
             "#fb9f3a"
            ],
            [
             0.8888888888888888,
             "#fdca26"
            ],
            [
             1,
             "#f0f921"
            ]
           ],
           "sequentialminus": [
            [
             0,
             "#0d0887"
            ],
            [
             0.1111111111111111,
             "#46039f"
            ],
            [
             0.2222222222222222,
             "#7201a8"
            ],
            [
             0.3333333333333333,
             "#9c179e"
            ],
            [
             0.4444444444444444,
             "#bd3786"
            ],
            [
             0.5555555555555556,
             "#d8576b"
            ],
            [
             0.6666666666666666,
             "#ed7953"
            ],
            [
             0.7777777777777778,
             "#fb9f3a"
            ],
            [
             0.8888888888888888,
             "#fdca26"
            ],
            [
             1,
             "#f0f921"
            ]
           ]
          },
          "colorway": [
           "#636efa",
           "#EF553B",
           "#00cc96",
           "#ab63fa",
           "#FFA15A",
           "#19d3f3",
           "#FF6692",
           "#B6E880",
           "#FF97FF",
           "#FECB52"
          ],
          "font": {
           "color": "#2a3f5f"
          },
          "geo": {
           "bgcolor": "white",
           "lakecolor": "white",
           "landcolor": "#E5ECF6",
           "showlakes": true,
           "showland": true,
           "subunitcolor": "white"
          },
          "hoverlabel": {
           "align": "left"
          },
          "hovermode": "closest",
          "mapbox": {
           "style": "light"
          },
          "paper_bgcolor": "white",
          "plot_bgcolor": "#E5ECF6",
          "polar": {
           "angularaxis": {
            "gridcolor": "white",
            "linecolor": "white",
            "ticks": ""
           },
           "bgcolor": "#E5ECF6",
           "radialaxis": {
            "gridcolor": "white",
            "linecolor": "white",
            "ticks": ""
           }
          },
          "scene": {
           "xaxis": {
            "backgroundcolor": "#E5ECF6",
            "gridcolor": "white",
            "gridwidth": 2,
            "linecolor": "white",
            "showbackground": true,
            "ticks": "",
            "zerolinecolor": "white"
           },
           "yaxis": {
            "backgroundcolor": "#E5ECF6",
            "gridcolor": "white",
            "gridwidth": 2,
            "linecolor": "white",
            "showbackground": true,
            "ticks": "",
            "zerolinecolor": "white"
           },
           "zaxis": {
            "backgroundcolor": "#E5ECF6",
            "gridcolor": "white",
            "gridwidth": 2,
            "linecolor": "white",
            "showbackground": true,
            "ticks": "",
            "zerolinecolor": "white"
           }
          },
          "shapedefaults": {
           "line": {
            "color": "#2a3f5f"
           }
          },
          "ternary": {
           "aaxis": {
            "gridcolor": "white",
            "linecolor": "white",
            "ticks": ""
           },
           "baxis": {
            "gridcolor": "white",
            "linecolor": "white",
            "ticks": ""
           },
           "bgcolor": "#E5ECF6",
           "caxis": {
            "gridcolor": "white",
            "linecolor": "white",
            "ticks": ""
           }
          },
          "title": {
           "x": 0.05
          },
          "xaxis": {
           "automargin": true,
           "gridcolor": "white",
           "linecolor": "white",
           "ticks": "",
           "title": {
            "standoff": 15
           },
           "zerolinecolor": "white",
           "zerolinewidth": 2
          },
          "yaxis": {
           "automargin": true,
           "gridcolor": "white",
           "linecolor": "white",
           "ticks": "",
           "title": {
            "standoff": 15
           },
           "zerolinecolor": "white",
           "zerolinewidth": 2
          }
         }
        },
        "title": {
         "font": {
          "size": 50
         },
         "text": "Inference Time",
         "x": 0.5
        },
        "width": 500,
        "xaxis": {
         "tickfont": {
          "size": 40
         }
        },
        "yaxis": {
         "range": [
          -4,
          1
         ],
         "tickfont": {
          "size": 30
         },
         "title": {
          "font": {
           "size": 40
          },
          "text": "Seconds"
         },
         "type": "log"
        }
       }
      },
      "text/html": [
       "<div>                            <div id=\"a4189bdd-10cc-41a9-89e1-b629af513200\" class=\"plotly-graph-div\" style=\"height:1300px; width:500px;\"></div>            <script type=\"text/javascript\">                require([\"plotly\"], function(Plotly) {                    window.PLOTLYENV=window.PLOTLYENV || {};                                    if (document.getElementById(\"a4189bdd-10cc-41a9-89e1-b629af513200\")) {                    Plotly.newPlot(                        \"a4189bdd-10cc-41a9-89e1-b629af513200\",                        [{\"marker\":{\"color\":\"rgb(228,26,28)\"},\"name\":\"KCPO\",\"showlegend\":false,\"x\":[\"KCPO\"],\"y\":[0.3599654197692871],\"type\":\"bar\"},{\"marker\":{\"color\":\"rgb(55,126,184)\"},\"name\":\"RNN\",\"showlegend\":false,\"x\":[\"RNN\"],\"y\":[0.009910130500793457],\"type\":\"bar\"},{\"marker\":{\"color\":\"rgb(77,175,74)\"},\"name\":\"ReflexNet\",\"showlegend\":false,\"x\":[\"ReflexNet\"],\"y\":[0.0017744779586791992],\"type\":\"bar\"},{\"marker\":{\"color\":\"rgb(152,78,163)\"},\"name\":\"RiccatiNet\",\"showlegend\":false,\"x\":[\"RiccatiNet\"],\"y\":[0.023821520805358886],\"type\":\"bar\"}],                        {\"template\":{\"data\":{\"histogram2dcontour\":[{\"type\":\"histogram2dcontour\",\"colorbar\":{\"outlinewidth\":0,\"ticks\":\"\"},\"colorscale\":[[0.0,\"#0d0887\"],[0.1111111111111111,\"#46039f\"],[0.2222222222222222,\"#7201a8\"],[0.3333333333333333,\"#9c179e\"],[0.4444444444444444,\"#bd3786\"],[0.5555555555555556,\"#d8576b\"],[0.6666666666666666,\"#ed7953\"],[0.7777777777777778,\"#fb9f3a\"],[0.8888888888888888,\"#fdca26\"],[1.0,\"#f0f921\"]]}],\"choropleth\":[{\"type\":\"choropleth\",\"colorbar\":{\"outlinewidth\":0,\"ticks\":\"\"}}],\"histogram2d\":[{\"type\":\"histogram2d\",\"colorbar\":{\"outlinewidth\":0,\"ticks\":\"\"},\"colorscale\":[[0.0,\"#0d0887\"],[0.1111111111111111,\"#46039f\"],[0.2222222222222222,\"#7201a8\"],[0.3333333333333333,\"#9c179e\"],[0.4444444444444444,\"#bd3786\"],[0.5555555555555556,\"#d8576b\"],[0.6666666666666666,\"#ed7953\"],[0.7777777777777778,\"#fb9f3a\"],[0.8888888888888888,\"#fdca26\"],[1.0,\"#f0f921\"]]}],\"heatmap\":[{\"type\":\"heatmap\",\"colorbar\":{\"outlinewidth\":0,\"ticks\":\"\"},\"colorscale\":[[0.0,\"#0d0887\"],[0.1111111111111111,\"#46039f\"],[0.2222222222222222,\"#7201a8\"],[0.3333333333333333,\"#9c179e\"],[0.4444444444444444,\"#bd3786\"],[0.5555555555555556,\"#d8576b\"],[0.6666666666666666,\"#ed7953\"],[0.7777777777777778,\"#fb9f3a\"],[0.8888888888888888,\"#fdca26\"],[1.0,\"#f0f921\"]]}],\"heatmapgl\":[{\"type\":\"heatmapgl\",\"colorbar\":{\"outlinewidth\":0,\"ticks\":\"\"},\"colorscale\":[[0.0,\"#0d0887\"],[0.1111111111111111,\"#46039f\"],[0.2222222222222222,\"#7201a8\"],[0.3333333333333333,\"#9c179e\"],[0.4444444444444444,\"#bd3786\"],[0.5555555555555556,\"#d8576b\"],[0.6666666666666666,\"#ed7953\"],[0.7777777777777778,\"#fb9f3a\"],[0.8888888888888888,\"#fdca26\"],[1.0,\"#f0f921\"]]}],\"contourcarpet\":[{\"type\":\"contourcarpet\",\"colorbar\":{\"outlinewidth\":0,\"ticks\":\"\"}}],\"contour\":[{\"type\":\"contour\",\"colorbar\":{\"outlinewidth\":0,\"ticks\":\"\"},\"colorscale\":[[0.0,\"#0d0887\"],[0.1111111111111111,\"#46039f\"],[0.2222222222222222,\"#7201a8\"],[0.3333333333333333,\"#9c179e\"],[0.4444444444444444,\"#bd3786\"],[0.5555555555555556,\"#d8576b\"],[0.6666666666666666,\"#ed7953\"],[0.7777777777777778,\"#fb9f3a\"],[0.8888888888888888,\"#fdca26\"],[1.0,\"#f0f921\"]]}],\"surface\":[{\"type\":\"surface\",\"colorbar\":{\"outlinewidth\":0,\"ticks\":\"\"},\"colorscale\":[[0.0,\"#0d0887\"],[0.1111111111111111,\"#46039f\"],[0.2222222222222222,\"#7201a8\"],[0.3333333333333333,\"#9c179e\"],[0.4444444444444444,\"#bd3786\"],[0.5555555555555556,\"#d8576b\"],[0.6666666666666666,\"#ed7953\"],[0.7777777777777778,\"#fb9f3a\"],[0.8888888888888888,\"#fdca26\"],[1.0,\"#f0f921\"]]}],\"mesh3d\":[{\"type\":\"mesh3d\",\"colorbar\":{\"outlinewidth\":0,\"ticks\":\"\"}}],\"scatter\":[{\"fillpattern\":{\"fillmode\":\"overlay\",\"size\":10,\"solidity\":0.2},\"type\":\"scatter\"}],\"parcoords\":[{\"type\":\"parcoords\",\"line\":{\"colorbar\":{\"outlinewidth\":0,\"ticks\":\"\"}}}],\"scatterpolargl\":[{\"type\":\"scatterpolargl\",\"marker\":{\"colorbar\":{\"outlinewidth\":0,\"ticks\":\"\"}}}],\"bar\":[{\"error_x\":{\"color\":\"#2a3f5f\"},\"error_y\":{\"color\":\"#2a3f5f\"},\"marker\":{\"line\":{\"color\":\"#E5ECF6\",\"width\":0.5},\"pattern\":{\"fillmode\":\"overlay\",\"size\":10,\"solidity\":0.2}},\"type\":\"bar\"}],\"scattergeo\":[{\"type\":\"scattergeo\",\"marker\":{\"colorbar\":{\"outlinewidth\":0,\"ticks\":\"\"}}}],\"scatterpolar\":[{\"type\":\"scatterpolar\",\"marker\":{\"colorbar\":{\"outlinewidth\":0,\"ticks\":\"\"}}}],\"histogram\":[{\"marker\":{\"pattern\":{\"fillmode\":\"overlay\",\"size\":10,\"solidity\":0.2}},\"type\":\"histogram\"}],\"scattergl\":[{\"type\":\"scattergl\",\"marker\":{\"colorbar\":{\"outlinewidth\":0,\"ticks\":\"\"}}}],\"scatter3d\":[{\"type\":\"scatter3d\",\"line\":{\"colorbar\":{\"outlinewidth\":0,\"ticks\":\"\"}},\"marker\":{\"colorbar\":{\"outlinewidth\":0,\"ticks\":\"\"}}}],\"scattermapbox\":[{\"type\":\"scattermapbox\",\"marker\":{\"colorbar\":{\"outlinewidth\":0,\"ticks\":\"\"}}}],\"scatterternary\":[{\"type\":\"scatterternary\",\"marker\":{\"colorbar\":{\"outlinewidth\":0,\"ticks\":\"\"}}}],\"scattercarpet\":[{\"type\":\"scattercarpet\",\"marker\":{\"colorbar\":{\"outlinewidth\":0,\"ticks\":\"\"}}}],\"carpet\":[{\"aaxis\":{\"endlinecolor\":\"#2a3f5f\",\"gridcolor\":\"white\",\"linecolor\":\"white\",\"minorgridcolor\":\"white\",\"startlinecolor\":\"#2a3f5f\"},\"baxis\":{\"endlinecolor\":\"#2a3f5f\",\"gridcolor\":\"white\",\"linecolor\":\"white\",\"minorgridcolor\":\"white\",\"startlinecolor\":\"#2a3f5f\"},\"type\":\"carpet\"}],\"table\":[{\"cells\":{\"fill\":{\"color\":\"#EBF0F8\"},\"line\":{\"color\":\"white\"}},\"header\":{\"fill\":{\"color\":\"#C8D4E3\"},\"line\":{\"color\":\"white\"}},\"type\":\"table\"}],\"barpolar\":[{\"marker\":{\"line\":{\"color\":\"#E5ECF6\",\"width\":0.5},\"pattern\":{\"fillmode\":\"overlay\",\"size\":10,\"solidity\":0.2}},\"type\":\"barpolar\"}],\"pie\":[{\"automargin\":true,\"type\":\"pie\"}]},\"layout\":{\"autotypenumbers\":\"strict\",\"colorway\":[\"#636efa\",\"#EF553B\",\"#00cc96\",\"#ab63fa\",\"#FFA15A\",\"#19d3f3\",\"#FF6692\",\"#B6E880\",\"#FF97FF\",\"#FECB52\"],\"font\":{\"color\":\"#2a3f5f\"},\"hovermode\":\"closest\",\"hoverlabel\":{\"align\":\"left\"},\"paper_bgcolor\":\"white\",\"plot_bgcolor\":\"#E5ECF6\",\"polar\":{\"bgcolor\":\"#E5ECF6\",\"angularaxis\":{\"gridcolor\":\"white\",\"linecolor\":\"white\",\"ticks\":\"\"},\"radialaxis\":{\"gridcolor\":\"white\",\"linecolor\":\"white\",\"ticks\":\"\"}},\"ternary\":{\"bgcolor\":\"#E5ECF6\",\"aaxis\":{\"gridcolor\":\"white\",\"linecolor\":\"white\",\"ticks\":\"\"},\"baxis\":{\"gridcolor\":\"white\",\"linecolor\":\"white\",\"ticks\":\"\"},\"caxis\":{\"gridcolor\":\"white\",\"linecolor\":\"white\",\"ticks\":\"\"}},\"coloraxis\":{\"colorbar\":{\"outlinewidth\":0,\"ticks\":\"\"}},\"colorscale\":{\"sequential\":[[0.0,\"#0d0887\"],[0.1111111111111111,\"#46039f\"],[0.2222222222222222,\"#7201a8\"],[0.3333333333333333,\"#9c179e\"],[0.4444444444444444,\"#bd3786\"],[0.5555555555555556,\"#d8576b\"],[0.6666666666666666,\"#ed7953\"],[0.7777777777777778,\"#fb9f3a\"],[0.8888888888888888,\"#fdca26\"],[1.0,\"#f0f921\"]],\"sequentialminus\":[[0.0,\"#0d0887\"],[0.1111111111111111,\"#46039f\"],[0.2222222222222222,\"#7201a8\"],[0.3333333333333333,\"#9c179e\"],[0.4444444444444444,\"#bd3786\"],[0.5555555555555556,\"#d8576b\"],[0.6666666666666666,\"#ed7953\"],[0.7777777777777778,\"#fb9f3a\"],[0.8888888888888888,\"#fdca26\"],[1.0,\"#f0f921\"]],\"diverging\":[[0,\"#8e0152\"],[0.1,\"#c51b7d\"],[0.2,\"#de77ae\"],[0.3,\"#f1b6da\"],[0.4,\"#fde0ef\"],[0.5,\"#f7f7f7\"],[0.6,\"#e6f5d0\"],[0.7,\"#b8e186\"],[0.8,\"#7fbc41\"],[0.9,\"#4d9221\"],[1,\"#276419\"]]},\"xaxis\":{\"gridcolor\":\"white\",\"linecolor\":\"white\",\"ticks\":\"\",\"title\":{\"standoff\":15},\"zerolinecolor\":\"white\",\"automargin\":true,\"zerolinewidth\":2},\"yaxis\":{\"gridcolor\":\"white\",\"linecolor\":\"white\",\"ticks\":\"\",\"title\":{\"standoff\":15},\"zerolinecolor\":\"white\",\"automargin\":true,\"zerolinewidth\":2},\"scene\":{\"xaxis\":{\"backgroundcolor\":\"#E5ECF6\",\"gridcolor\":\"white\",\"linecolor\":\"white\",\"showbackground\":true,\"ticks\":\"\",\"zerolinecolor\":\"white\",\"gridwidth\":2},\"yaxis\":{\"backgroundcolor\":\"#E5ECF6\",\"gridcolor\":\"white\",\"linecolor\":\"white\",\"showbackground\":true,\"ticks\":\"\",\"zerolinecolor\":\"white\",\"gridwidth\":2},\"zaxis\":{\"backgroundcolor\":\"#E5ECF6\",\"gridcolor\":\"white\",\"linecolor\":\"white\",\"showbackground\":true,\"ticks\":\"\",\"zerolinecolor\":\"white\",\"gridwidth\":2}},\"shapedefaults\":{\"line\":{\"color\":\"#2a3f5f\"}},\"annotationdefaults\":{\"arrowcolor\":\"#2a3f5f\",\"arrowhead\":0,\"arrowwidth\":1},\"geo\":{\"bgcolor\":\"white\",\"landcolor\":\"#E5ECF6\",\"subunitcolor\":\"white\",\"showland\":true,\"showlakes\":true,\"lakecolor\":\"white\"},\"title\":{\"x\":0.05},\"mapbox\":{\"style\":\"light\"}}},\"shapes\":[{\"line\":{\"color\":\"Black\",\"dash\":\"dash\",\"width\":2},\"type\":\"line\",\"x0\":-0.5,\"x1\":3.5,\"y0\":1,\"y1\":1}],\"title\":{\"font\":{\"size\":50},\"text\":\"Inference Time\",\"x\":0.5},\"yaxis\":{\"title\":{\"text\":\"Seconds\",\"font\":{\"size\":40}},\"tickfont\":{\"size\":30},\"type\":\"log\",\"range\":[-4.0,1.0]},\"xaxis\":{\"tickfont\":{\"size\":40}},\"autosize\":false,\"width\":500,\"height\":1300,\"bargap\":0.1,\"bargroupgap\":0.1},                        {\"responsive\": true}                    ).then(function(){\n",
       "                            \n",
       "var gd = document.getElementById('a4189bdd-10cc-41a9-89e1-b629af513200');\n",
       "var x = new MutationObserver(function (mutations, observer) {{\n",
       "        var display = window.getComputedStyle(gd).display;\n",
       "        if (!display || display === 'none') {{\n",
       "            console.log([gd, 'removed!']);\n",
       "            Plotly.purge(gd);\n",
       "            observer.disconnect();\n",
       "        }}\n",
       "}});\n",
       "\n",
       "// Listen for the removal of the full notebook cells\n",
       "var notebookContainer = gd.closest('#notebook-container');\n",
       "if (notebookContainer) {{\n",
       "    x.observe(notebookContainer, {childList: true});\n",
       "}}\n",
       "\n",
       "// Listen for the clearing of the current output cell\n",
       "var outputEl = gd.closest('.output');\n",
       "if (outputEl) {{\n",
       "    x.observe(outputEl, {childList: true});\n",
       "}}\n",
       "\n",
       "                        })                };                });            </script>        </div>"
      ]
     },
     "metadata": {},
     "output_type": "display_data"
    },
    {
     "name": "stdout",
     "output_type": "stream",
     "text": [
      "<div>                            <div id=\"f3a19cba-9a89-4c13-8152-f63313ec4c48\" class=\"plotly-graph-div\" style=\"height:1300px; width:500px;\"></div>            <script type=\"text/javascript\">                                    window.PLOTLYENV=window.PLOTLYENV || {};                                    if (document.getElementById(\"f3a19cba-9a89-4c13-8152-f63313ec4c48\")) {                    Plotly.newPlot(                        \"f3a19cba-9a89-4c13-8152-f63313ec4c48\",                        [{\"marker\":{\"color\":\"rgb(228,26,28)\"},\"name\":\"KCPO\",\"showlegend\":false,\"x\":[\"KCPO\"],\"y\":[0.3599654197692871],\"type\":\"bar\"},{\"marker\":{\"color\":\"rgb(55,126,184)\"},\"name\":\"RNN\",\"showlegend\":false,\"x\":[\"RNN\"],\"y\":[0.009910130500793457],\"type\":\"bar\"},{\"marker\":{\"color\":\"rgb(77,175,74)\"},\"name\":\"ReflexNet\",\"showlegend\":false,\"x\":[\"ReflexNet\"],\"y\":[0.0017744779586791992],\"type\":\"bar\"},{\"marker\":{\"color\":\"rgb(152,78,163)\"},\"name\":\"RiccatiNet\",\"showlegend\":false,\"x\":[\"RiccatiNet\"],\"y\":[0.023821520805358886],\"type\":\"bar\"}],                        {\"autosize\":false,\"bargap\":0.1,\"bargroupgap\":0.1,\"height\":1300,\"shapes\":[{\"line\":{\"color\":\"Black\",\"dash\":\"dash\",\"width\":2},\"type\":\"line\",\"x0\":-0.5,\"x1\":3.5,\"y0\":1,\"y1\":1}],\"template\":{\"data\":{\"barpolar\":[{\"marker\":{\"line\":{\"color\":\"#E5ECF6\",\"width\":0.5},\"pattern\":{\"fillmode\":\"overlay\",\"size\":10,\"solidity\":0.2}},\"type\":\"barpolar\"}],\"bar\":[{\"error_x\":{\"color\":\"#2a3f5f\"},\"error_y\":{\"color\":\"#2a3f5f\"},\"marker\":{\"line\":{\"color\":\"#E5ECF6\",\"width\":0.5},\"pattern\":{\"fillmode\":\"overlay\",\"size\":10,\"solidity\":0.2}},\"type\":\"bar\"}],\"carpet\":[{\"aaxis\":{\"endlinecolor\":\"#2a3f5f\",\"gridcolor\":\"white\",\"linecolor\":\"white\",\"minorgridcolor\":\"white\",\"startlinecolor\":\"#2a3f5f\"},\"baxis\":{\"endlinecolor\":\"#2a3f5f\",\"gridcolor\":\"white\",\"linecolor\":\"white\",\"minorgridcolor\":\"white\",\"startlinecolor\":\"#2a3f5f\"},\"type\":\"carpet\"}],\"choropleth\":[{\"colorbar\":{\"outlinewidth\":0,\"ticks\":\"\"},\"type\":\"choropleth\"}],\"contourcarpet\":[{\"colorbar\":{\"outlinewidth\":0,\"ticks\":\"\"},\"type\":\"contourcarpet\"}],\"contour\":[{\"colorbar\":{\"outlinewidth\":0,\"ticks\":\"\"},\"colorscale\":[[0.0,\"#0d0887\"],[0.1111111111111111,\"#46039f\"],[0.2222222222222222,\"#7201a8\"],[0.3333333333333333,\"#9c179e\"],[0.4444444444444444,\"#bd3786\"],[0.5555555555555556,\"#d8576b\"],[0.6666666666666666,\"#ed7953\"],[0.7777777777777778,\"#fb9f3a\"],[0.8888888888888888,\"#fdca26\"],[1.0,\"#f0f921\"]],\"type\":\"contour\"}],\"heatmapgl\":[{\"colorbar\":{\"outlinewidth\":0,\"ticks\":\"\"},\"colorscale\":[[0.0,\"#0d0887\"],[0.1111111111111111,\"#46039f\"],[0.2222222222222222,\"#7201a8\"],[0.3333333333333333,\"#9c179e\"],[0.4444444444444444,\"#bd3786\"],[0.5555555555555556,\"#d8576b\"],[0.6666666666666666,\"#ed7953\"],[0.7777777777777778,\"#fb9f3a\"],[0.8888888888888888,\"#fdca26\"],[1.0,\"#f0f921\"]],\"type\":\"heatmapgl\"}],\"heatmap\":[{\"colorbar\":{\"outlinewidth\":0,\"ticks\":\"\"},\"colorscale\":[[0.0,\"#0d0887\"],[0.1111111111111111,\"#46039f\"],[0.2222222222222222,\"#7201a8\"],[0.3333333333333333,\"#9c179e\"],[0.4444444444444444,\"#bd3786\"],[0.5555555555555556,\"#d8576b\"],[0.6666666666666666,\"#ed7953\"],[0.7777777777777778,\"#fb9f3a\"],[0.8888888888888888,\"#fdca26\"],[1.0,\"#f0f921\"]],\"type\":\"heatmap\"}],\"histogram2dcontour\":[{\"colorbar\":{\"outlinewidth\":0,\"ticks\":\"\"},\"colorscale\":[[0.0,\"#0d0887\"],[0.1111111111111111,\"#46039f\"],[0.2222222222222222,\"#7201a8\"],[0.3333333333333333,\"#9c179e\"],[0.4444444444444444,\"#bd3786\"],[0.5555555555555556,\"#d8576b\"],[0.6666666666666666,\"#ed7953\"],[0.7777777777777778,\"#fb9f3a\"],[0.8888888888888888,\"#fdca26\"],[1.0,\"#f0f921\"]],\"type\":\"histogram2dcontour\"}],\"histogram2d\":[{\"colorbar\":{\"outlinewidth\":0,\"ticks\":\"\"},\"colorscale\":[[0.0,\"#0d0887\"],[0.1111111111111111,\"#46039f\"],[0.2222222222222222,\"#7201a8\"],[0.3333333333333333,\"#9c179e\"],[0.4444444444444444,\"#bd3786\"],[0.5555555555555556,\"#d8576b\"],[0.6666666666666666,\"#ed7953\"],[0.7777777777777778,\"#fb9f3a\"],[0.8888888888888888,\"#fdca26\"],[1.0,\"#f0f921\"]],\"type\":\"histogram2d\"}],\"histogram\":[{\"marker\":{\"pattern\":{\"fillmode\":\"overlay\",\"size\":10,\"solidity\":0.2}},\"type\":\"histogram\"}],\"mesh3d\":[{\"colorbar\":{\"outlinewidth\":0,\"ticks\":\"\"},\"type\":\"mesh3d\"}],\"parcoords\":[{\"line\":{\"colorbar\":{\"outlinewidth\":0,\"ticks\":\"\"}},\"type\":\"parcoords\"}],\"pie\":[{\"automargin\":true,\"type\":\"pie\"}],\"scatter3d\":[{\"line\":{\"colorbar\":{\"outlinewidth\":0,\"ticks\":\"\"}},\"marker\":{\"colorbar\":{\"outlinewidth\":0,\"ticks\":\"\"}},\"type\":\"scatter3d\"}],\"scattercarpet\":[{\"marker\":{\"colorbar\":{\"outlinewidth\":0,\"ticks\":\"\"}},\"type\":\"scattercarpet\"}],\"scattergeo\":[{\"marker\":{\"colorbar\":{\"outlinewidth\":0,\"ticks\":\"\"}},\"type\":\"scattergeo\"}],\"scattergl\":[{\"marker\":{\"colorbar\":{\"outlinewidth\":0,\"ticks\":\"\"}},\"type\":\"scattergl\"}],\"scattermapbox\":[{\"marker\":{\"colorbar\":{\"outlinewidth\":0,\"ticks\":\"\"}},\"type\":\"scattermapbox\"}],\"scatterpolargl\":[{\"marker\":{\"colorbar\":{\"outlinewidth\":0,\"ticks\":\"\"}},\"type\":\"scatterpolargl\"}],\"scatterpolar\":[{\"marker\":{\"colorbar\":{\"outlinewidth\":0,\"ticks\":\"\"}},\"type\":\"scatterpolar\"}],\"scatter\":[{\"fillpattern\":{\"fillmode\":\"overlay\",\"size\":10,\"solidity\":0.2},\"type\":\"scatter\"}],\"scatterternary\":[{\"marker\":{\"colorbar\":{\"outlinewidth\":0,\"ticks\":\"\"}},\"type\":\"scatterternary\"}],\"surface\":[{\"colorbar\":{\"outlinewidth\":0,\"ticks\":\"\"},\"colorscale\":[[0.0,\"#0d0887\"],[0.1111111111111111,\"#46039f\"],[0.2222222222222222,\"#7201a8\"],[0.3333333333333333,\"#9c179e\"],[0.4444444444444444,\"#bd3786\"],[0.5555555555555556,\"#d8576b\"],[0.6666666666666666,\"#ed7953\"],[0.7777777777777778,\"#fb9f3a\"],[0.8888888888888888,\"#fdca26\"],[1.0,\"#f0f921\"]],\"type\":\"surface\"}],\"table\":[{\"cells\":{\"fill\":{\"color\":\"#EBF0F8\"},\"line\":{\"color\":\"white\"}},\"header\":{\"fill\":{\"color\":\"#C8D4E3\"},\"line\":{\"color\":\"white\"}},\"type\":\"table\"}]},\"layout\":{\"annotationdefaults\":{\"arrowcolor\":\"#2a3f5f\",\"arrowhead\":0,\"arrowwidth\":1},\"autotypenumbers\":\"strict\",\"coloraxis\":{\"colorbar\":{\"outlinewidth\":0,\"ticks\":\"\"}},\"colorscale\":{\"diverging\":[[0,\"#8e0152\"],[0.1,\"#c51b7d\"],[0.2,\"#de77ae\"],[0.3,\"#f1b6da\"],[0.4,\"#fde0ef\"],[0.5,\"#f7f7f7\"],[0.6,\"#e6f5d0\"],[0.7,\"#b8e186\"],[0.8,\"#7fbc41\"],[0.9,\"#4d9221\"],[1,\"#276419\"]],\"sequential\":[[0.0,\"#0d0887\"],[0.1111111111111111,\"#46039f\"],[0.2222222222222222,\"#7201a8\"],[0.3333333333333333,\"#9c179e\"],[0.4444444444444444,\"#bd3786\"],[0.5555555555555556,\"#d8576b\"],[0.6666666666666666,\"#ed7953\"],[0.7777777777777778,\"#fb9f3a\"],[0.8888888888888888,\"#fdca26\"],[1.0,\"#f0f921\"]],\"sequentialminus\":[[0.0,\"#0d0887\"],[0.1111111111111111,\"#46039f\"],[0.2222222222222222,\"#7201a8\"],[0.3333333333333333,\"#9c179e\"],[0.4444444444444444,\"#bd3786\"],[0.5555555555555556,\"#d8576b\"],[0.6666666666666666,\"#ed7953\"],[0.7777777777777778,\"#fb9f3a\"],[0.8888888888888888,\"#fdca26\"],[1.0,\"#f0f921\"]]},\"colorway\":[\"#636efa\",\"#EF553B\",\"#00cc96\",\"#ab63fa\",\"#FFA15A\",\"#19d3f3\",\"#FF6692\",\"#B6E880\",\"#FF97FF\",\"#FECB52\"],\"font\":{\"color\":\"#2a3f5f\"},\"geo\":{\"bgcolor\":\"white\",\"lakecolor\":\"white\",\"landcolor\":\"#E5ECF6\",\"showlakes\":true,\"showland\":true,\"subunitcolor\":\"white\"},\"hoverlabel\":{\"align\":\"left\"},\"hovermode\":\"closest\",\"mapbox\":{\"style\":\"light\"},\"paper_bgcolor\":\"white\",\"plot_bgcolor\":\"#E5ECF6\",\"polar\":{\"angularaxis\":{\"gridcolor\":\"white\",\"linecolor\":\"white\",\"ticks\":\"\"},\"bgcolor\":\"#E5ECF6\",\"radialaxis\":{\"gridcolor\":\"white\",\"linecolor\":\"white\",\"ticks\":\"\"}},\"scene\":{\"xaxis\":{\"backgroundcolor\":\"#E5ECF6\",\"gridcolor\":\"white\",\"gridwidth\":2,\"linecolor\":\"white\",\"showbackground\":true,\"ticks\":\"\",\"zerolinecolor\":\"white\"},\"yaxis\":{\"backgroundcolor\":\"#E5ECF6\",\"gridcolor\":\"white\",\"gridwidth\":2,\"linecolor\":\"white\",\"showbackground\":true,\"ticks\":\"\",\"zerolinecolor\":\"white\"},\"zaxis\":{\"backgroundcolor\":\"#E5ECF6\",\"gridcolor\":\"white\",\"gridwidth\":2,\"linecolor\":\"white\",\"showbackground\":true,\"ticks\":\"\",\"zerolinecolor\":\"white\"}},\"shapedefaults\":{\"line\":{\"color\":\"#2a3f5f\"}},\"ternary\":{\"aaxis\":{\"gridcolor\":\"white\",\"linecolor\":\"white\",\"ticks\":\"\"},\"baxis\":{\"gridcolor\":\"white\",\"linecolor\":\"white\",\"ticks\":\"\"},\"bgcolor\":\"#E5ECF6\",\"caxis\":{\"gridcolor\":\"white\",\"linecolor\":\"white\",\"ticks\":\"\"}},\"title\":{\"x\":0.05},\"xaxis\":{\"automargin\":true,\"gridcolor\":\"white\",\"linecolor\":\"white\",\"ticks\":\"\",\"title\":{\"standoff\":15},\"zerolinecolor\":\"white\",\"zerolinewidth\":2},\"yaxis\":{\"automargin\":true,\"gridcolor\":\"white\",\"linecolor\":\"white\",\"ticks\":\"\",\"title\":{\"standoff\":15},\"zerolinecolor\":\"white\",\"zerolinewidth\":2}}},\"title\":{\"font\":{\"size\":50},\"text\":\"Inference Time\",\"x\":0.5},\"width\":500,\"xaxis\":{\"tickfont\":{\"size\":40}},\"yaxis\":{\"range\":[-4.0,1.0],\"tickfont\":{\"size\":30},\"title\":{\"font\":{\"size\":40},\"text\":\"Seconds\"},\"type\":\"log\"}},                        {\"responsive\": true}                    )                };                            </script>        </div>\n"
     ]
    }
   ],
   "source": [
    "data = h10\n",
    "horizon = \"10\"\n",
    "# ylim = [2*10**-4,2*10**1]\n",
    "ylim = [10**-4,10**1]\n",
    "\n",
    "# plot2(data, ylim, horizon)\n",
    "plotly_plot2(data, ylim, horizon, inference_only=True)"
   ]
  }
 ],
 "metadata": {
  "kernelspec": {
   "display_name": "Python 3 (ipykernel)",
   "language": "python",
   "name": "python3"
  },
  "language_info": {
   "codemirror_mode": {
    "name": "ipython",
    "version": 3
   },
   "file_extension": ".py",
   "mimetype": "text/x-python",
   "name": "python",
   "nbconvert_exporter": "python",
   "pygments_lexer": "ipython3",
   "version": "3.11.3"
  }
 },
 "nbformat": 4,
 "nbformat_minor": 5
}
